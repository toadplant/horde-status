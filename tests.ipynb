{
 "cells": [
  {
   "cell_type": "code",
   "execution_count": 1,
   "metadata": {},
   "outputs": [],
   "source": [
    "import streamlit as st # type: ignore\n",
    "import requests as rq\n",
    "import pandas as pd\n",
    "import json"
   ]
  },
  {
   "cell_type": "code",
   "execution_count": 77,
   "metadata": {},
   "outputs": [],
   "source": [
    "def get_awailable_models():\n",
    "    workers_url = 'https://aihorde.net/api/v2/workers?type=text'\n",
    "    workers = pd.json_normalize(rq.get(workers_url).json())\n",
    "    workers = workers.rename(columns={\"name\": \"worker\", \"models\": \"model\"})\n",
    "    workers['model'] = workers['model'].apply(lambda m: m[0])\n",
    "    models_url = 'https://aihorde.net/api/v2/status/models?type=text&model_state=all'\n",
    "    models = pd.json_normalize(rq.get(models_url).json())\n",
    "    models = models.rename(columns={\"name\": \"model\"})\n",
    "    awailable_models = workers.merge(models, on='model')\n",
    "    awailable_models = awailable_models[['model', 'eta_y', 'performance', 'worker', 'max_length', 'max_context_length']]\n",
    "    awailable_models['model'] = awailable_models['model'].apply(lambda m: m.split('/')[-1])\n",
    "    return awailable_models"
   ]
  },
  {
   "cell_type": "code",
   "execution_count": 84,
   "metadata": {},
   "outputs": [],
   "source": []
  }
 ],
 "metadata": {
  "kernelspec": {
   "display_name": ".venv",
   "language": "python",
   "name": "python3"
  },
  "language_info": {
   "codemirror_mode": {
    "name": "ipython",
    "version": 3
   },
   "file_extension": ".py",
   "mimetype": "text/x-python",
   "name": "python",
   "nbconvert_exporter": "python",
   "pygments_lexer": "ipython3",
   "version": "3.12.5"
  }
 },
 "nbformat": 4,
 "nbformat_minor": 2
}
